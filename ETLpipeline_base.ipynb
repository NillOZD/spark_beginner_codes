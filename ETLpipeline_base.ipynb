{
  "nbformat": 4,
  "nbformat_minor": 0,
  "metadata": {
    "colab": {
      "provenance": [],
      "authorship_tag": "ABX9TyPPuNxnI+yhMORku7mCWQxO"
    },
    "kernelspec": {
      "name": "python3",
      "display_name": "Python 3"
    },
    "language_info": {
      "name": "python"
    }
  },
  "cells": [
    {
      "cell_type": "code",
      "execution_count": null,
      "metadata": {
        "colab": {
          "base_uri": "https://localhost:8080/"
        },
        "id": "-BBNo7P2emc-",
        "outputId": "e2ed420e-886c-4b57-ae47-7e0d48cf4856"
      },
      "outputs": [
        {
          "output_type": "stream",
          "name": "stdout",
          "text": [
            "Looking in indexes: https://pypi.org/simple, https://us-python.pkg.dev/colab-wheels/public/simple/\n",
            "Collecting pyspark\n",
            "  Downloading pyspark-3.3.1.tar.gz (281.4 MB)\n",
            "\u001b[K     |████████████████████████████████| 281.4 MB 40 kB/s \n",
            "\u001b[?25hCollecting py4j==0.10.9.5\n",
            "  Downloading py4j-0.10.9.5-py2.py3-none-any.whl (199 kB)\n",
            "\u001b[K     |████████████████████████████████| 199 kB 52.3 MB/s \n",
            "\u001b[?25hBuilding wheels for collected packages: pyspark\n",
            "  Building wheel for pyspark (setup.py) ... \u001b[?25l\u001b[?25hdone\n",
            "  Created wheel for pyspark: filename=pyspark-3.3.1-py2.py3-none-any.whl size=281845512 sha256=33b5eaecc5d950f5bd51ccb50c1a6720674287510129370b6254b489bc90e260\n",
            "  Stored in directory: /root/.cache/pip/wheels/43/dc/11/ec201cd671da62fa9c5cc77078235e40722170ceba231d7598\n",
            "Successfully built pyspark\n",
            "Installing collected packages: py4j, pyspark\n",
            "Successfully installed py4j-0.10.9.5 pyspark-3.3.1\n"
          ]
        }
      ],
      "source": [
        "pip install pyspark"
      ]
    },
    {
      "cell_type": "code",
      "source": [
        "from pyspark.sql import SparkSession\n",
        "\n",
        "if __name__ == \"__main__\":\n",
        "  spark = SparkSession \\\n",
        "        .builder \\\n",
        "        .appName(\"exploring_spark\") \\\n",
        "        .getOrCreate()\n",
        "\n",
        "anime = spark.read.csv(\"anime.csv\", header = True).cache()\n",
        "anime.printSchema()\n",
        "anime.show()\n"
      ],
      "metadata": {
        "colab": {
          "base_uri": "https://localhost:8080/"
        },
        "id": "HWQ2n9B_e0gI",
        "outputId": "cba1bb34-7807-4767-9ffa-2a83d9ad5391"
      },
      "execution_count": null,
      "outputs": [
        {
          "output_type": "stream",
          "name": "stdout",
          "text": [
            "root\n",
            " |-- anime_id: string (nullable = true)\n",
            " |-- name: string (nullable = true)\n",
            " |-- genre: string (nullable = true)\n",
            " |-- type: string (nullable = true)\n",
            " |-- episodes: string (nullable = true)\n",
            " |-- rating: string (nullable = true)\n",
            " |-- members: string (nullable = true)\n",
            "\n",
            "+--------+--------------------+--------------------+-----+--------+------+-------+\n",
            "|anime_id|                name|               genre| type|episodes|rating|members|\n",
            "+--------+--------------------+--------------------+-----+--------+------+-------+\n",
            "|   32281|      Kimi no Na wa.|Drama, Romance, S...|Movie|       1|  9.37| 200630|\n",
            "|    5114|Fullmetal Alchemi...|Action, Adventure...|   TV|      64|  9.26| 793665|\n",
            "|   28977|            Gintama°|Action, Comedy, H...|   TV|      51|  9.25| 114262|\n",
            "|    9253|         Steins;Gate|    Sci-Fi, Thriller|   TV|      24|  9.17| 673572|\n",
            "|    9969|       Gintama&#039;|Action, Comedy, H...|   TV|      51|  9.16| 151266|\n",
            "|   32935|Haikyuu!!: Karasu...|Comedy, Drama, Sc...|   TV|      10|  9.15|  93351|\n",
            "|   11061|Hunter x Hunter (...|Action, Adventure...|   TV|     148|  9.13| 425855|\n",
            "|     820|Ginga Eiyuu Densetsu|Drama, Military, ...|  OVA|     110|  9.11|  80679|\n",
            "|   15335|Gintama Movie: Ka...|Action, Comedy, H...|Movie|       1|  9.10|  72534|\n",
            "|   15417|Gintama&#039;: En...|Action, Comedy, H...|   TV|      13|  9.11|  81109|\n",
            "|    4181|Clannad: After Story|Drama, Fantasy, R...|   TV|      24|  9.06| 456749|\n",
            "|   28851|      Koe no Katachi|Drama, School, Sh...|Movie|       1|  9.05| 102733|\n",
            "|     918|             Gintama|Action, Comedy, H...|   TV|     201|  9.04| 336376|\n",
            "|    2904|Code Geass: Hangy...|Action, Drama, Me...|   TV|      25|  8.98| 572888|\n",
            "|   28891|Haikyuu!! Second ...|Comedy, Drama, Sc...|   TV|      25|  8.93| 179342|\n",
            "|     199|Sen to Chihiro no...|Adventure, Drama,...|Movie|       1|  8.93| 466254|\n",
            "|   23273|Shigatsu wa Kimi ...|Drama, Music, Rom...|   TV|      22|  8.92| 416397|\n",
            "|   24701|Mushishi Zoku Sho...|Adventure, Fantas...|   TV|      10|  8.88|  75894|\n",
            "|   12355|Ookami Kodomo no ...|Fantasy, Slice of...|Movie|       1|  8.84| 226193|\n",
            "|    1575|Code Geass: Hangy...|Action, Mecha, Mi...|   TV|      25|  8.83| 715151|\n",
            "+--------+--------------------+--------------------+-----+--------+------+-------+\n",
            "only showing top 20 rows\n",
            "\n"
          ]
        }
      ]
    },
    {
      "cell_type": "code",
      "source": [
        "# we're able to extract data via sql queries..\n",
        "anime.createOrReplaceTempView(\"ratings\")\n",
        "ratings_df = spark.sql(\"SELECT * from ratings\")\n",
        "ratings_df.show()"
      ],
      "metadata": {
        "colab": {
          "base_uri": "https://localhost:8080/"
        },
        "id": "6gp_zprgfFsl",
        "outputId": "5edc9d02-2b04-4b4f-c678-07c916452a76"
      },
      "execution_count": null,
      "outputs": [
        {
          "output_type": "stream",
          "name": "stdout",
          "text": [
            "+--------+--------------------+--------------------+-----+--------+------+-------+\n",
            "|anime_id|                name|               genre| type|episodes|rating|members|\n",
            "+--------+--------------------+--------------------+-----+--------+------+-------+\n",
            "|   32281|      Kimi no Na wa.|Drama, Romance, S...|Movie|       1|  9.37| 200630|\n",
            "|    5114|Fullmetal Alchemi...|Action, Adventure...|   TV|      64|  9.26| 793665|\n",
            "|   28977|            Gintama°|Action, Comedy, H...|   TV|      51|  9.25| 114262|\n",
            "|    9253|         Steins;Gate|    Sci-Fi, Thriller|   TV|      24|  9.17| 673572|\n",
            "|    9969|       Gintama&#039;|Action, Comedy, H...|   TV|      51|  9.16| 151266|\n",
            "|   32935|Haikyuu!!: Karasu...|Comedy, Drama, Sc...|   TV|      10|  9.15|  93351|\n",
            "|   11061|Hunter x Hunter (...|Action, Adventure...|   TV|     148|  9.13| 425855|\n",
            "|     820|Ginga Eiyuu Densetsu|Drama, Military, ...|  OVA|     110|  9.11|  80679|\n",
            "|   15335|Gintama Movie: Ka...|Action, Comedy, H...|Movie|       1|  9.10|  72534|\n",
            "|   15417|Gintama&#039;: En...|Action, Comedy, H...|   TV|      13|  9.11|  81109|\n",
            "|    4181|Clannad: After Story|Drama, Fantasy, R...|   TV|      24|  9.06| 456749|\n",
            "|   28851|      Koe no Katachi|Drama, School, Sh...|Movie|       1|  9.05| 102733|\n",
            "|     918|             Gintama|Action, Comedy, H...|   TV|     201|  9.04| 336376|\n",
            "|    2904|Code Geass: Hangy...|Action, Drama, Me...|   TV|      25|  8.98| 572888|\n",
            "|   28891|Haikyuu!! Second ...|Comedy, Drama, Sc...|   TV|      25|  8.93| 179342|\n",
            "|     199|Sen to Chihiro no...|Adventure, Drama,...|Movie|       1|  8.93| 466254|\n",
            "|   23273|Shigatsu wa Kimi ...|Drama, Music, Rom...|   TV|      22|  8.92| 416397|\n",
            "|   24701|Mushishi Zoku Sho...|Adventure, Fantas...|   TV|      10|  8.88|  75894|\n",
            "|   12355|Ookami Kodomo no ...|Fantasy, Slice of...|Movie|       1|  8.84| 226193|\n",
            "|    1575|Code Geass: Hangy...|Action, Mecha, Mi...|   TV|      25|  8.83| 715151|\n",
            "+--------+--------------------+--------------------+-----+--------+------+-------+\n",
            "only showing top 20 rows\n",
            "\n"
          ]
        }
      ]
    },
    {
      "cell_type": "code",
      "source": [
        "type_df = ratings_df.groupBy(\"type\").count()\n",
        "type_df.show()"
      ],
      "metadata": {
        "colab": {
          "base_uri": "https://localhost:8080/"
        },
        "id": "Asf8Q1jZfH2j",
        "outputId": "143a38b7-307c-407e-eaf7-4c1aff2374b7"
      },
      "execution_count": null,
      "outputs": [
        {
          "output_type": "stream",
          "name": "stdout",
          "text": [
            "+-------+-----+\n",
            "|   type|count|\n",
            "+-------+-----+\n",
            "|     TV| 3787|\n",
            "|   null|   25|\n",
            "|Special| 1676|\n",
            "|    OVA| 3311|\n",
            "|  Music|  488|\n",
            "|  Movie| 2348|\n",
            "|    ONA|  659|\n",
            "+-------+-----+\n",
            "\n"
          ]
        }
      ]
    },
    {
      "cell_type": "code",
      "source": [
        "# transforming..\n",
        "length_df = spark.sql(\"SELECT * from ratings WHERE ratings.episodes > 50 AND 150 > ratings.episodes\")\n",
        "length_df.show()"
      ],
      "metadata": {
        "colab": {
          "base_uri": "https://localhost:8080/"
        },
        "id": "zXqwyAd-fH40",
        "outputId": "84ca712e-2186-4930-9fa2-bc82168b6ce7"
      },
      "execution_count": null,
      "outputs": [
        {
          "output_type": "stream",
          "name": "stdout",
          "text": [
            "+--------+--------------------+--------------------+----+--------+------+-------+\n",
            "|anime_id|                name|               genre|type|episodes|rating|members|\n",
            "+--------+--------------------+--------------------+----+--------+------+-------+\n",
            "|    5114|Fullmetal Alchemi...|Action, Adventure...|  TV|      64|  9.26| 793665|\n",
            "|   28977|            Gintama°|Action, Comedy, H...|  TV|      51|  9.25| 114262|\n",
            "|    9969|       Gintama&#039;|Action, Comedy, H...|  TV|      51|  9.16| 151266|\n",
            "|   11061|Hunter x Hunter (...|Action, Adventure...|  TV|     148|  9.13| 425855|\n",
            "|     820|Ginga Eiyuu Densetsu|Drama, Military, ...| OVA|     110|  9.11|  80679|\n",
            "|     263|      Hajime no Ippo|Comedy, Drama, Sh...|  TV|      75|  8.83| 157670|\n",
            "|      19|             Monster|Drama, Horror, My...|  TV|      74|  8.72| 247562|\n",
            "|   12431|       Uchuu Kyoudai|Comedy, Sci-Fi, S...|  TV|      99|  8.59|  72958|\n",
            "|     170|           Slam Dunk|Comedy, Drama, Sc...|  TV|     101|  8.56|  82570|\n",
            "|   30230|Diamond no Ace: S...|Comedy, School, S...|  TV|      51|  8.50|  38531|\n",
            "|     136|     Hunter x Hunter|Action, Adventure...|  TV|      62|  8.48| 166255|\n",
            "|     392|     Yuu☆Yuu☆Hakusho|Action, Comedy, D...|  TV|     112|  8.47| 195017|\n",
            "|      45|Rurouni Kenshin: ...|Action, Adventure...|  TV|      94|  8.43| 218928|\n",
            "|    9863|          SKET Dance|Comedy, School, S...|  TV|      77|  8.36| 101027|\n",
            "|     121| Fullmetal Alchemist|Action, Adventure...|  TV|      51|  8.33| 600384|\n",
            "|   33255|Saiki Kusuo no Ψ-...|Comedy, School, S...|  TV|     120|  8.29|  47092|\n",
            "|   18689|      Diamond no Ace|Comedy, School, S...|  TV|      75|  8.25|  81384|\n",
            "|   22043|   Fairy Tail (2014)|Action, Adventure...|  TV|     102|  8.25| 255076|\n",
            "|    1453|       Maison Ikkoku|Comedy, Drama, Ro...|  TV|      96|  8.25|  22079|\n",
            "|    1974|Glass no Kamen (2...|       Drama, Shoujo|  TV|      51|  8.23|  17038|\n",
            "+--------+--------------------+--------------------+----+--------+------+-------+\n",
            "only showing top 20 rows\n",
            "\n"
          ]
        }
      ]
    },
    {
      "cell_type": "code",
      "source": [
        "selected_df = spark.sql(\"SELECT * from ratings WHERE rating > 8.0 AND ratings.type == 'TV'\").orderBy(\"rating\", ascending =False)\n",
        "selected_df.show()"
      ],
      "metadata": {
        "colab": {
          "base_uri": "https://localhost:8080/"
        },
        "id": "SORPTwcYfH8R",
        "outputId": "b731d738-2666-46e8-e7c5-371860b72f13"
      },
      "execution_count": null,
      "outputs": [
        {
          "output_type": "stream",
          "name": "stdout",
          "text": [
            "+--------+--------------------+--------------------+----+--------+------+-------+\n",
            "|anime_id|                name|               genre|type|episodes|rating|members|\n",
            "+--------+--------------------+--------------------+----+--------+------+-------+\n",
            "|   30120|Spoon-hime no Swi...|     Adventure, Kids|  TV| Unknown|  9.60|     47|\n",
            "|    5114|Fullmetal Alchemi...|Action, Adventure...|  TV|      64|  9.26| 793665|\n",
            "|   28977|            Gintama°|Action, Comedy, H...|  TV|      51|  9.25| 114262|\n",
            "|    9253|         Steins;Gate|    Sci-Fi, Thriller|  TV|      24|  9.17| 673572|\n",
            "|    9969|       Gintama&#039;|Action, Comedy, H...|  TV|      51|  9.16| 151266|\n",
            "|   32935|Haikyuu!!: Karasu...|Comedy, Drama, Sc...|  TV|      10|  9.15|  93351|\n",
            "|   11061|Hunter x Hunter (...|Action, Adventure...|  TV|     148|  9.13| 425855|\n",
            "|   15417|Gintama&#039;: En...|Action, Comedy, H...|  TV|      13|  9.11|  81109|\n",
            "|    4181|Clannad: After Story|Drama, Fantasy, R...|  TV|      24|  9.06| 456749|\n",
            "|     918|             Gintama|Action, Comedy, H...|  TV|     201|  9.04| 336376|\n",
            "|    2904|Code Geass: Hangy...|Action, Drama, Me...|  TV|      25|  8.98| 572888|\n",
            "|   28891|Haikyuu!! Second ...|Comedy, Drama, Sc...|  TV|      25|  8.93| 179342|\n",
            "|   23273|Shigatsu wa Kimi ...|Drama, Music, Rom...|  TV|      22|  8.92| 416397|\n",
            "|   24701|Mushishi Zoku Sho...|Adventure, Fantas...|  TV|      10|  8.88|  75894|\n",
            "|    1575|Code Geass: Hangy...|Action, Mecha, Mi...|  TV|      25|  8.83| 715151|\n",
            "|     263|      Hajime no Ippo|Comedy, Drama, Sh...|  TV|      75|  8.83| 157670|\n",
            "|   30276|       One Punch Man|Action, Comedy, P...|  TV|      12|  8.82| 552458|\n",
            "|       1|        Cowboy Bebop|Action, Adventure...|  TV|      26|  8.82| 486824|\n",
            "|   17074|Monogatari Series...|Comedy, Mystery, ...|  TV|      26|  8.80| 205959|\n",
            "|   21939|  Mushishi Zoku Shou|Adventure, Fantas...|  TV|      10|  8.80| 101351|\n",
            "+--------+--------------------+--------------------+----+--------+------+-------+\n",
            "only showing top 20 rows\n",
            "\n"
          ]
        }
      ]
    },
    {
      "cell_type": "code",
      "source": [
        "# now loading..\n",
        "selected_df.write.json(\"filtered.json\")"
      ],
      "metadata": {
        "id": "AZfPfaa0fRiM"
      },
      "execution_count": null,
      "outputs": []
    },
    {
      "cell_type": "code",
      "source": [
        "#next: maybe add a database configuration"
      ],
      "metadata": {
        "id": "sWxijkOofTim"
      },
      "execution_count": null,
      "outputs": []
    }
  ]
}